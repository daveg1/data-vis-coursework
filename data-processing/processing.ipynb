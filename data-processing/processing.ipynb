{
 "cells": [
  {
   "cell_type": "markdown",
   "metadata": {},
   "source": [
    "# Data Processing"
   ]
  },
  {
   "cell_type": "code",
   "execution_count": 1,
   "metadata": {},
   "outputs": [],
   "source": [
    "import pandas as pd\n",
    "import re"
   ]
  },
  {
   "cell_type": "markdown",
   "metadata": {},
   "source": [
    "Load survey data and select our desired columns"
   ]
  },
  {
   "cell_type": "code",
   "execution_count": 2,
   "metadata": {},
   "outputs": [
    {
     "data": {
      "text/html": [
       "<div>\n",
       "<style scoped>\n",
       "    .dataframe tbody tr th:only-of-type {\n",
       "        vertical-align: middle;\n",
       "    }\n",
       "\n",
       "    .dataframe tbody tr th {\n",
       "        vertical-align: top;\n",
       "    }\n",
       "\n",
       "    .dataframe thead th {\n",
       "        text-align: right;\n",
       "    }\n",
       "</style>\n",
       "<table border=\"1\" class=\"dataframe\">\n",
       "  <thead>\n",
       "    <tr style=\"text-align: right;\">\n",
       "      <th></th>\n",
       "      <th>Country</th>\n",
       "      <th>WebframeHaveWorkedWith</th>\n",
       "      <th>WebframeWantToWorkWith</th>\n",
       "    </tr>\n",
       "  </thead>\n",
       "  <tbody>\n",
       "    <tr>\n",
       "      <th>2</th>\n",
       "      <td>United Kingdom of Great Britain and Northern I...</td>\n",
       "      <td>Angular.js</td>\n",
       "      <td>Angular;Angular.js</td>\n",
       "    </tr>\n",
       "    <tr>\n",
       "      <th>3</th>\n",
       "      <td>Israel</td>\n",
       "      <td>ASP.NET;ASP.NET Core</td>\n",
       "      <td>ASP.NET;ASP.NET Core</td>\n",
       "    </tr>\n",
       "    <tr>\n",
       "      <th>4</th>\n",
       "      <td>United States of America</td>\n",
       "      <td>Angular;ASP.NET;ASP.NET Core ;jQuery;Node.js</td>\n",
       "      <td>Angular;ASP.NET Core ;Blazor;Node.js</td>\n",
       "    </tr>\n",
       "    <tr>\n",
       "      <th>6</th>\n",
       "      <td>India</td>\n",
       "      <td>Angular;Next.js;Node.js;React.js;Svelte;Vue.js</td>\n",
       "      <td>Django;Flask;Gatsby;jQuery;Next.js;Node.js;Rea...</td>\n",
       "    </tr>\n",
       "    <tr>\n",
       "      <th>7</th>\n",
       "      <td>India</td>\n",
       "      <td>jQuery;Node.js</td>\n",
       "      <td>Angular;Angular.js;Next.js;Vue.js</td>\n",
       "    </tr>\n",
       "  </tbody>\n",
       "</table>\n",
       "</div>"
      ],
      "text/plain": [
       "                                             Country  \\\n",
       "2  United Kingdom of Great Britain and Northern I...   \n",
       "3                                             Israel   \n",
       "4                           United States of America   \n",
       "6                                              India   \n",
       "7                                              India   \n",
       "\n",
       "                           WebframeHaveWorkedWith  \\\n",
       "2                                      Angular.js   \n",
       "3                           ASP.NET;ASP.NET Core    \n",
       "4    Angular;ASP.NET;ASP.NET Core ;jQuery;Node.js   \n",
       "6  Angular;Next.js;Node.js;React.js;Svelte;Vue.js   \n",
       "7                                  jQuery;Node.js   \n",
       "\n",
       "                              WebframeWantToWorkWith  \n",
       "2                                 Angular;Angular.js  \n",
       "3                              ASP.NET;ASP.NET Core   \n",
       "4               Angular;ASP.NET Core ;Blazor;Node.js  \n",
       "6  Django;Flask;Gatsby;jQuery;Next.js;Node.js;Rea...  \n",
       "7                  Angular;Angular.js;Next.js;Vue.js  "
      ]
     },
     "execution_count": 2,
     "metadata": {},
     "output_type": "execute_result"
    }
   ],
   "source": [
    "cols = ['Country', 'WebframeHaveWorkedWith', 'WebframeWantToWorkWith']\n",
    "survey = pd.read_csv('../data-raw/survey_results_public.csv', usecols=cols)\n",
    "survey.dropna(thresh=2, subset=cols[1:], inplace=True)\n",
    "\n",
    "survey.head(5)"
   ]
  },
  {
   "cell_type": "markdown",
   "metadata": {},
   "source": [
    "Split columns by semicolon delimitation"
   ]
  },
  {
   "cell_type": "code",
   "execution_count": 3,
   "metadata": {},
   "outputs": [
    {
     "data": {
      "text/html": [
       "<div>\n",
       "<style scoped>\n",
       "    .dataframe tbody tr th:only-of-type {\n",
       "        vertical-align: middle;\n",
       "    }\n",
       "\n",
       "    .dataframe tbody tr th {\n",
       "        vertical-align: top;\n",
       "    }\n",
       "\n",
       "    .dataframe thead th {\n",
       "        text-align: right;\n",
       "    }\n",
       "</style>\n",
       "<table border=\"1\" class=\"dataframe\">\n",
       "  <thead>\n",
       "    <tr style=\"text-align: right;\">\n",
       "      <th></th>\n",
       "      <th>Country</th>\n",
       "      <th>WebframeHaveWorkedWith</th>\n",
       "      <th>WebframeWantToWorkWith</th>\n",
       "    </tr>\n",
       "  </thead>\n",
       "  <tbody>\n",
       "    <tr>\n",
       "      <th>2</th>\n",
       "      <td>United Kingdom of Great Britain and Northern I...</td>\n",
       "      <td>[Angular.js]</td>\n",
       "      <td>[Angular, Angular.js]</td>\n",
       "    </tr>\n",
       "    <tr>\n",
       "      <th>3</th>\n",
       "      <td>Israel</td>\n",
       "      <td>[ASP.NET, ASP.NET Core]</td>\n",
       "      <td>[ASP.NET, ASP.NET Core]</td>\n",
       "    </tr>\n",
       "    <tr>\n",
       "      <th>4</th>\n",
       "      <td>United States of America</td>\n",
       "      <td>[Angular, ASP.NET, ASP.NET Core, jQuery, Node.js]</td>\n",
       "      <td>[Angular, ASP.NET Core, Blazor, Node.js]</td>\n",
       "    </tr>\n",
       "  </tbody>\n",
       "</table>\n",
       "</div>"
      ],
      "text/plain": [
       "                                             Country  \\\n",
       "2  United Kingdom of Great Britain and Northern I...   \n",
       "3                                             Israel   \n",
       "4                           United States of America   \n",
       "\n",
       "                              WebframeHaveWorkedWith  \\\n",
       "2                                       [Angular.js]   \n",
       "3                            [ASP.NET, ASP.NET Core]   \n",
       "4  [Angular, ASP.NET, ASP.NET Core, jQuery, Node.js]   \n",
       "\n",
       "                     WebframeWantToWorkWith  \n",
       "2                     [Angular, Angular.js]  \n",
       "3                   [ASP.NET, ASP.NET Core]  \n",
       "4  [Angular, ASP.NET Core, Blazor, Node.js]  "
      ]
     },
     "execution_count": 3,
     "metadata": {},
     "output_type": "execute_result"
    }
   ],
   "source": [
    "def split_column(value):\n",
    "\treturn re.split(r'\\s*;\\s*', value.strip())\n",
    "\n",
    "survey['WebframeHaveWorkedWith'] = survey['WebframeHaveWorkedWith'].map(split_column)\n",
    "survey['WebframeWantToWorkWith'] = survey['WebframeWantToWorkWith'].map(split_column)\n",
    "\n",
    "survey.head(3)"
   ]
  },
  {
   "cell_type": "markdown",
   "metadata": {},
   "source": [
    "Aggregate framework values into new series"
   ]
  },
  {
   "cell_type": "code",
   "execution_count": 4,
   "metadata": {},
   "outputs": [],
   "source": [
    "def aggregate(col):\n",
    "\tseries = pd.Series(dtype=int)\n",
    "\tfor row in col:\n",
    "\t\tfor data in row:\n",
    "\t\t\tif data in series:\n",
    "\t\t\t\tseries[data] += 1\n",
    "\t\t\telse:\n",
    "\t\t\t\tseries[data] = 1\n",
    "\treturn series\n",
    "\n",
    "frameworks_used = aggregate(survey['WebframeHaveWorkedWith'])\n",
    "frameworks_future = aggregate(survey['WebframeWantToWorkWith'])"
   ]
  },
  {
   "cell_type": "markdown",
   "metadata": {},
   "source": [
    "Combine series into new frameworks dataset"
   ]
  },
  {
   "cell_type": "code",
   "execution_count": 5,
   "metadata": {},
   "outputs": [
    {
     "data": {
      "text/html": [
       "<div>\n",
       "<style scoped>\n",
       "    .dataframe tbody tr th:only-of-type {\n",
       "        vertical-align: middle;\n",
       "    }\n",
       "\n",
       "    .dataframe tbody tr th {\n",
       "        vertical-align: top;\n",
       "    }\n",
       "\n",
       "    .dataframe thead th {\n",
       "        text-align: right;\n",
       "    }\n",
       "</style>\n",
       "<table border=\"1\" class=\"dataframe\">\n",
       "  <thead>\n",
       "    <tr style=\"text-align: right;\">\n",
       "      <th></th>\n",
       "      <th>frameworks used</th>\n",
       "      <th>frameworks future</th>\n",
       "    </tr>\n",
       "  </thead>\n",
       "  <tbody>\n",
       "    <tr>\n",
       "      <th>Angular.js</th>\n",
       "      <td>4286</td>\n",
       "      <td>2773</td>\n",
       "    </tr>\n",
       "    <tr>\n",
       "      <th>ASP.NET</th>\n",
       "      <td>7206</td>\n",
       "      <td>3848</td>\n",
       "    </tr>\n",
       "    <tr>\n",
       "      <th>ASP.NET Core</th>\n",
       "      <td>9177</td>\n",
       "      <td>8894</td>\n",
       "    </tr>\n",
       "    <tr>\n",
       "      <th>Angular</th>\n",
       "      <td>9850</td>\n",
       "      <td>8402</td>\n",
       "    </tr>\n",
       "    <tr>\n",
       "      <th>jQuery</th>\n",
       "      <td>13779</td>\n",
       "      <td>5937</td>\n",
       "    </tr>\n",
       "  </tbody>\n",
       "</table>\n",
       "</div>"
      ],
      "text/plain": [
       "              frameworks used  frameworks future\n",
       "Angular.js               4286               2773\n",
       "ASP.NET                  7206               3848\n",
       "ASP.NET Core             9177               8894\n",
       "Angular                  9850               8402\n",
       "jQuery                  13779               5937"
      ]
     },
     "execution_count": 5,
     "metadata": {},
     "output_type": "execute_result"
    }
   ],
   "source": [
    "frameworks = pd.DataFrame([frameworks_used, frameworks_future])\n",
    "frameworks = frameworks.transpose()\n",
    "frameworks.columns = ['frameworks used', 'frameworks future']\n",
    "\n",
    "frameworks.head(5)"
   ]
  },
  {
   "cell_type": "markdown",
   "metadata": {},
   "source": [
    "Clean tags dataset and add missing columns"
   ]
  },
  {
   "cell_type": "code",
   "execution_count": 6,
   "metadata": {},
   "outputs": [
    {
     "data": {
      "text/html": [
       "<div>\n",
       "<style scoped>\n",
       "    .dataframe tbody tr th:only-of-type {\n",
       "        vertical-align: middle;\n",
       "    }\n",
       "\n",
       "    .dataframe tbody tr th {\n",
       "        vertical-align: top;\n",
       "    }\n",
       "\n",
       "    .dataframe thead th {\n",
       "        text-align: right;\n",
       "    }\n",
       "</style>\n",
       "<table border=\"1\" class=\"dataframe\">\n",
       "  <thead>\n",
       "    <tr style=\"text-align: right;\">\n",
       "      <th></th>\n",
       "      <th>total posts</th>\n",
       "      <th>unanswered posts</th>\n",
       "      <th>unsolved posts</th>\n",
       "      <th>answered posts</th>\n",
       "      <th>solved posts</th>\n",
       "    </tr>\n",
       "    <tr>\n",
       "      <th>framework</th>\n",
       "      <th></th>\n",
       "      <th></th>\n",
       "      <th></th>\n",
       "      <th></th>\n",
       "      <th></th>\n",
       "    </tr>\n",
       "  </thead>\n",
       "  <tbody>\n",
       "    <tr>\n",
       "      <th>Node.js</th>\n",
       "      <td>446823</td>\n",
       "      <td>86743</td>\n",
       "      <td>174210</td>\n",
       "      <td>360080</td>\n",
       "      <td>272613</td>\n",
       "    </tr>\n",
       "    <tr>\n",
       "      <th>React.js</th>\n",
       "      <td>424124</td>\n",
       "      <td>85670</td>\n",
       "      <td>173271</td>\n",
       "      <td>338454</td>\n",
       "      <td>250853</td>\n",
       "    </tr>\n",
       "    <tr>\n",
       "      <th>jQuery</th>\n",
       "      <td>1030603</td>\n",
       "      <td>101046</td>\n",
       "      <td>278193</td>\n",
       "      <td>929557</td>\n",
       "      <td>752410</td>\n",
       "    </tr>\n",
       "    <tr>\n",
       "      <th>Express</th>\n",
       "      <td>89495</td>\n",
       "      <td>17320</td>\n",
       "      <td>36176</td>\n",
       "      <td>72175</td>\n",
       "      <td>53319</td>\n",
       "    </tr>\n",
       "    <tr>\n",
       "      <th>Angular</th>\n",
       "      <td>286350</td>\n",
       "      <td>51845</td>\n",
       "      <td>111456</td>\n",
       "      <td>234505</td>\n",
       "      <td>174894</td>\n",
       "    </tr>\n",
       "  </tbody>\n",
       "</table>\n",
       "</div>"
      ],
      "text/plain": [
       "           total posts  unanswered posts  unsolved posts  answered posts  \\\n",
       "framework                                                                  \n",
       "Node.js         446823             86743          174210          360080   \n",
       "React.js        424124             85670          173271          338454   \n",
       "jQuery         1030603            101046          278193          929557   \n",
       "Express          89495             17320           36176           72175   \n",
       "Angular         286350             51845          111456          234505   \n",
       "\n",
       "           solved posts  \n",
       "framework                \n",
       "Node.js          272613  \n",
       "React.js         250853  \n",
       "jQuery           752410  \n",
       "Express           53319  \n",
       "Angular          174894  "
      ]
     },
     "execution_count": 6,
     "metadata": {},
     "output_type": "execute_result"
    }
   ],
   "source": [
    "tags = pd.read_csv('../data-raw/tags.csv', thousands=',', index_col=0)\n",
    "\n",
    "tags['answered posts'] = tags['total posts'] - tags['unanswered posts']\n",
    "tags['solved posts'] = tags['total posts'] - tags['unsolved posts']\n",
    "\n",
    "tags.head(5)"
   ]
  },
  {
   "cell_type": "markdown",
   "metadata": {},
   "source": [
    "Join languages and tags datasets to frameworks"
   ]
  },
  {
   "cell_type": "code",
   "execution_count": 7,
   "metadata": {},
   "outputs": [
    {
     "data": {
      "text/html": [
       "<div>\n",
       "<style scoped>\n",
       "    .dataframe tbody tr th:only-of-type {\n",
       "        vertical-align: middle;\n",
       "    }\n",
       "\n",
       "    .dataframe tbody tr th {\n",
       "        vertical-align: top;\n",
       "    }\n",
       "\n",
       "    .dataframe thead th {\n",
       "        text-align: right;\n",
       "    }\n",
       "</style>\n",
       "<table border=\"1\" class=\"dataframe\">\n",
       "  <thead>\n",
       "    <tr style=\"text-align: right;\">\n",
       "      <th></th>\n",
       "      <th>frameworks used</th>\n",
       "      <th>frameworks future</th>\n",
       "      <th>language</th>\n",
       "      <th>total posts</th>\n",
       "      <th>unanswered posts</th>\n",
       "      <th>unsolved posts</th>\n",
       "      <th>answered posts</th>\n",
       "      <th>solved posts</th>\n",
       "    </tr>\n",
       "  </thead>\n",
       "  <tbody>\n",
       "    <tr>\n",
       "      <th>Angular.js</th>\n",
       "      <td>4286</td>\n",
       "      <td>2773</td>\n",
       "      <td>JavaScript</td>\n",
       "      <td>262592</td>\n",
       "      <td>37781</td>\n",
       "      <td>90975</td>\n",
       "      <td>224811</td>\n",
       "      <td>171617</td>\n",
       "    </tr>\n",
       "    <tr>\n",
       "      <th>ASP.NET</th>\n",
       "      <td>7206</td>\n",
       "      <td>3848</td>\n",
       "      <td>C#</td>\n",
       "      <td>370740</td>\n",
       "      <td>43590</td>\n",
       "      <td>112937</td>\n",
       "      <td>327150</td>\n",
       "      <td>257803</td>\n",
       "    </tr>\n",
       "    <tr>\n",
       "      <th>ASP.NET Core</th>\n",
       "      <td>9177</td>\n",
       "      <td>8894</td>\n",
       "      <td>C#</td>\n",
       "      <td>73556</td>\n",
       "      <td>13878</td>\n",
       "      <td>26751</td>\n",
       "      <td>59678</td>\n",
       "      <td>46805</td>\n",
       "    </tr>\n",
       "    <tr>\n",
       "      <th>Angular</th>\n",
       "      <td>9850</td>\n",
       "      <td>8402</td>\n",
       "      <td>JavaScript</td>\n",
       "      <td>286350</td>\n",
       "      <td>51845</td>\n",
       "      <td>111456</td>\n",
       "      <td>234505</td>\n",
       "      <td>174894</td>\n",
       "    </tr>\n",
       "    <tr>\n",
       "      <th>jQuery</th>\n",
       "      <td>13779</td>\n",
       "      <td>5937</td>\n",
       "      <td>JavaScript</td>\n",
       "      <td>1030603</td>\n",
       "      <td>101046</td>\n",
       "      <td>278193</td>\n",
       "      <td>929557</td>\n",
       "      <td>752410</td>\n",
       "    </tr>\n",
       "  </tbody>\n",
       "</table>\n",
       "</div>"
      ],
      "text/plain": [
       "              frameworks used  frameworks future    language  total posts  \\\n",
       "Angular.js               4286               2773  JavaScript       262592   \n",
       "ASP.NET                  7206               3848          C#       370740   \n",
       "ASP.NET Core             9177               8894          C#        73556   \n",
       "Angular                  9850               8402  JavaScript       286350   \n",
       "jQuery                  13779               5937  JavaScript      1030603   \n",
       "\n",
       "              unanswered posts  unsolved posts  answered posts  solved posts  \n",
       "Angular.js               37781           90975          224811        171617  \n",
       "ASP.NET                  43590          112937          327150        257803  \n",
       "ASP.NET Core             13878           26751           59678         46805  \n",
       "Angular                  51845          111456          234505        174894  \n",
       "jQuery                  101046          278193          929557        752410  "
      ]
     },
     "execution_count": 7,
     "metadata": {},
     "output_type": "execute_result"
    }
   ],
   "source": [
    "languages = pd.read_csv('../data-raw/languages.csv', index_col=0)\n",
    "\n",
    "frameworks = frameworks.join([languages, tags], how='inner')\n",
    "\n",
    "frameworks.head(5)"
   ]
  },
  {
   "cell_type": "markdown",
   "metadata": {},
   "source": [
    "Finally, write datasets to new files to be used by the dashboard"
   ]
  },
  {
   "cell_type": "code",
   "execution_count": 8,
   "metadata": {},
   "outputs": [],
   "source": [
    "frameworks.reset_index(level=0, names=['framework'], inplace=True)\n",
    "\n",
    "frameworks.to_csv('../data/frameworks.csv')\n"
   ]
  }
 ],
 "metadata": {
  "kernelspec": {
   "display_name": "Python 3.10.2 64-bit",
   "language": "python",
   "name": "python3"
  },
  "language_info": {
   "codemirror_mode": {
    "name": "ipython",
    "version": 3
   },
   "file_extension": ".py",
   "mimetype": "text/x-python",
   "name": "python",
   "nbconvert_exporter": "python",
   "pygments_lexer": "ipython3",
   "version": "3.10.2"
  },
  "orig_nbformat": 4,
  "vscode": {
   "interpreter": {
    "hash": "901b79e026e03396fd1ffa7133844e9ea80e258ce34c66e1aabb5896bcb18463"
   }
  }
 },
 "nbformat": 4,
 "nbformat_minor": 2
}
