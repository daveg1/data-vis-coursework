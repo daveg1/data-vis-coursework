{
 "cells": [
  {
   "cell_type": "markdown",
   "metadata": {},
   "source": [
    "# Data Processing"
   ]
  },
  {
   "cell_type": "code",
   "execution_count": 1,
   "metadata": {},
   "outputs": [],
   "source": [
    "import pandas as pd\n",
    "import re"
   ]
  },
  {
   "cell_type": "markdown",
   "metadata": {},
   "source": [
    "Load survey data and select our desired columns"
   ]
  },
  {
   "cell_type": "code",
   "execution_count": 92,
   "metadata": {},
   "outputs": [],
   "source": [
    "cols = ['Country', 'WebframeHaveWorkedWith', 'WebframeWantToWorkWith']\n",
    "survey = pd.read_csv('./data-raw/survey_results_public.csv', usecols=cols)\n",
    "survey.dropna(thresh=2, subset=cols[1:], inplace=True)\n",
    "\n",
    "# survey.head(5)"
   ]
  },
  {
   "attachments": {},
   "cell_type": "markdown",
   "metadata": {},
   "source": [
    "Split columns by semicolon delimitation and aggregate"
   ]
  },
  {
   "cell_type": "code",
   "execution_count": 93,
   "metadata": {},
   "outputs": [],
   "source": [
    "def split_column(value):\n",
    "\treturn re.split(r'\\s*;\\s*', value.strip())\n",
    "\n",
    "survey['WebframeHaveWorkedWith'] = survey['WebframeHaveWorkedWith'].map(split_column)\n",
    "survey['WebframeWantToWorkWith'] = survey['WebframeWantToWorkWith'].map(split_column)\n",
    "\n",
    "have_used = pd.Series(survey.explode('WebframeHaveWorkedWith')['WebframeHaveWorkedWith'].value_counts())\n",
    "want_use = pd.Series(survey.explode('WebframeWantToWorkWith')['WebframeWantToWorkWith'].value_counts())"
   ]
  },
  {
   "attachments": {},
   "cell_type": "markdown",
   "metadata": {},
   "source": [
    "Build frameworks dataset"
   ]
  },
  {
   "cell_type": "code",
   "execution_count": 94,
   "metadata": {},
   "outputs": [],
   "source": [
    "frameworks = pd.DataFrame([have_used, want_use]).transpose()\n",
    "frameworks.columns = ['have used', 'want to use']\n",
    "frameworks.reset_index(level=0, names=['framework'], inplace=True)\n",
    "frameworks.to_csv('../app/data/frameworks.csv')\n",
    "\n",
    "# frameworks.head(5)"
   ]
  },
  {
   "attachments": {},
   "cell_type": "markdown",
   "metadata": {},
   "source": [
    "Build countries dataset"
   ]
  },
  {
   "cell_type": "code",
   "execution_count": 63,
   "metadata": {},
   "outputs": [],
   "source": [
    "def get_country_users(data, col, type):\n",
    "\tsubset = data[['Country', col]].explode(col)\n",
    "\tdf = pd.DataFrame(subset.value_counts()).reset_index()\n",
    "\tdf.columns = ['country', 'framework', 'users']\n",
    "\tdf.insert(3, 'type', type)\n",
    "\treturn df\n",
    "\n",
    "have_used_countries = get_country_users(survey, 'WebframeHaveWorkedWith', 'have used')\n",
    "want_use_countries = get_country_users(survey, 'WebframeWantToWorkWith', 'want to use')\n",
    "countries = pd.concat([have_used_countries, want_use_countries])\n",
    "countries.to_csv('../app/data/countries.csv')"
   ]
  },
  {
   "cell_type": "markdown",
   "metadata": {},
   "source": [
    "Clean tags dataset and add missing columns"
   ]
  },
  {
   "cell_type": "code",
   "execution_count": null,
   "metadata": {},
   "outputs": [],
   "source": [
    "tags = pd.read_csv('./data-raw/tags.csv', thousands=',')\n",
    "\n",
    "tags['answered posts'] = tags['total posts'] - tags['unanswered posts']\n",
    "tags['solved posts'] = tags['total posts'] - tags['unsolved posts']\n",
    "\n",
    "tags.to_csv('../app/data/tags.csv')\n",
    "tags.head(5)"
   ]
  }
 ],
 "metadata": {
  "kernelspec": {
   "display_name": "Python 3.10.2 64-bit",
   "language": "python",
   "name": "python3"
  },
  "language_info": {
   "codemirror_mode": {
    "name": "ipython",
    "version": 3
   },
   "file_extension": ".py",
   "mimetype": "text/x-python",
   "name": "python",
   "nbconvert_exporter": "python",
   "pygments_lexer": "ipython3",
   "version": "3.10.2"
  },
  "orig_nbformat": 4,
  "vscode": {
   "interpreter": {
    "hash": "901b79e026e03396fd1ffa7133844e9ea80e258ce34c66e1aabb5896bcb18463"
   }
  }
 },
 "nbformat": 4,
 "nbformat_minor": 2
}
