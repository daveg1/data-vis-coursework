{
 "cells": [
  {
   "cell_type": "code",
   "execution_count": 5,
   "metadata": {},
   "outputs": [
    {
     "data": {
      "text/html": [
       "<div>\n",
       "<style scoped>\n",
       "    .dataframe tbody tr th:only-of-type {\n",
       "        vertical-align: middle;\n",
       "    }\n",
       "\n",
       "    .dataframe tbody tr th {\n",
       "        vertical-align: top;\n",
       "    }\n",
       "\n",
       "    .dataframe thead th {\n",
       "        text-align: right;\n",
       "    }\n",
       "</style>\n",
       "<table border=\"1\" class=\"dataframe\">\n",
       "  <thead>\n",
       "    <tr style=\"text-align: right;\">\n",
       "      <th></th>\n",
       "      <th>framework</th>\n",
       "      <th>have used</th>\n",
       "      <th>want to use</th>\n",
       "      <th>language</th>\n",
       "      <th>theme</th>\n",
       "      <th>total posts</th>\n",
       "      <th>unanswered posts</th>\n",
       "      <th>unsolved posts</th>\n",
       "      <th>answered posts</th>\n",
       "      <th>solved posts</th>\n",
       "    </tr>\n",
       "  </thead>\n",
       "  <tbody>\n",
       "    <tr>\n",
       "      <th>0</th>\n",
       "      <td>Angular.js</td>\n",
       "      <td>4286</td>\n",
       "      <td>2773</td>\n",
       "      <td>JavaScript</td>\n",
       "      <td>#F7DF1E</td>\n",
       "      <td>262592</td>\n",
       "      <td>37781</td>\n",
       "      <td>90975</td>\n",
       "      <td>224811</td>\n",
       "      <td>171617</td>\n",
       "    </tr>\n",
       "    <tr>\n",
       "      <th>1</th>\n",
       "      <td>ASP.NET</td>\n",
       "      <td>7206</td>\n",
       "      <td>3848</td>\n",
       "      <td>C#</td>\n",
       "      <td>#239120</td>\n",
       "      <td>370740</td>\n",
       "      <td>43590</td>\n",
       "      <td>112937</td>\n",
       "      <td>327150</td>\n",
       "      <td>257803</td>\n",
       "    </tr>\n",
       "    <tr>\n",
       "      <th>2</th>\n",
       "      <td>ASP.NET Core</td>\n",
       "      <td>9177</td>\n",
       "      <td>8894</td>\n",
       "      <td>C#</td>\n",
       "      <td>#239120</td>\n",
       "      <td>73556</td>\n",
       "      <td>13878</td>\n",
       "      <td>26751</td>\n",
       "      <td>59678</td>\n",
       "      <td>46805</td>\n",
       "    </tr>\n",
       "  </tbody>\n",
       "</table>\n",
       "</div>"
      ],
      "text/plain": [
       "      framework  have used  want to use    language    theme  total posts  \\\n",
       "0    Angular.js       4286         2773  JavaScript  #F7DF1E       262592   \n",
       "1       ASP.NET       7206         3848          C#  #239120       370740   \n",
       "2  ASP.NET Core       9177         8894          C#  #239120        73556   \n",
       "\n",
       "   unanswered posts  unsolved posts  answered posts  solved posts  \n",
       "0             37781           90975          224811        171617  \n",
       "1             43590          112937          327150        257803  \n",
       "2             13878           26751           59678         46805  "
      ]
     },
     "execution_count": 5,
     "metadata": {},
     "output_type": "execute_result"
    }
   ],
   "source": [
    "import pandas as pd\n",
    "frameworks = pd.read_csv('../data/frameworks.csv', index_col=0)\n",
    "frameworks.head(3)"
   ]
  },
  {
   "cell_type": "code",
   "execution_count": 54,
   "metadata": {},
   "outputs": [
    {
     "data": {
      "text/html": [
       "<div>\n",
       "<style scoped>\n",
       "    .dataframe tbody tr th:only-of-type {\n",
       "        vertical-align: middle;\n",
       "    }\n",
       "\n",
       "    .dataframe tbody tr th {\n",
       "        vertical-align: top;\n",
       "    }\n",
       "\n",
       "    .dataframe thead th {\n",
       "        text-align: right;\n",
       "    }\n",
       "</style>\n",
       "<table border=\"1\" class=\"dataframe\">\n",
       "  <thead>\n",
       "    <tr style=\"text-align: right;\">\n",
       "      <th></th>\n",
       "      <th>framework</th>\n",
       "      <th>occurrence</th>\n",
       "      <th>type</th>\n",
       "    </tr>\n",
       "  </thead>\n",
       "  <tbody>\n",
       "    <tr>\n",
       "      <th>0</th>\n",
       "      <td>Angular.js</td>\n",
       "      <td>4286</td>\n",
       "      <td>have used</td>\n",
       "    </tr>\n",
       "    <tr>\n",
       "      <th>1</th>\n",
       "      <td>ASP.NET</td>\n",
       "      <td>7206</td>\n",
       "      <td>have used</td>\n",
       "    </tr>\n",
       "    <tr>\n",
       "      <th>2</th>\n",
       "      <td>ASP.NET Core</td>\n",
       "      <td>9177</td>\n",
       "      <td>have used</td>\n",
       "    </tr>\n",
       "    <tr>\n",
       "      <th>3</th>\n",
       "      <td>Angular</td>\n",
       "      <td>9850</td>\n",
       "      <td>have used</td>\n",
       "    </tr>\n",
       "    <tr>\n",
       "      <th>4</th>\n",
       "      <td>jQuery</td>\n",
       "      <td>13779</td>\n",
       "      <td>have used</td>\n",
       "    </tr>\n",
       "  </tbody>\n",
       "</table>\n",
       "</div>"
      ],
      "text/plain": [
       "      framework  occurrence       type\n",
       "0    Angular.js        4286  have used\n",
       "1       ASP.NET        7206  have used\n",
       "2  ASP.NET Core        9177  have used\n",
       "3       Angular        9850  have used\n",
       "4        jQuery       13779  have used"
      ]
     },
     "execution_count": 54,
     "metadata": {},
     "output_type": "execute_result"
    }
   ],
   "source": [
    "fw_used = frameworks[['framework', 'have used']]\n",
    "fw_want = frameworks[['framework', 'want to use']]\n",
    "\n",
    "fw_used.insert(2, 'type', 'have used')\n",
    "fw_want.insert(2, 'type', 'want to use')\n",
    "\n",
    "fw_used.columns = ['framework', 'occurrence', 'type']\n",
    "fw_want.columns = ['framework', 'occurrence', 'type']\n",
    "\n",
    "fw_comb = pd.concat([fw_used, fw_want])\n",
    "\n",
    "fw_comb.head(5)"
   ]
  },
  {
   "cell_type": "code",
   "execution_count": 57,
   "metadata": {},
   "outputs": [
    {
     "data": {
      "text/plain": [
       "'https://cdn.jsdelivr.net/npm/vega-datasets@v1.29.0/data/population.json'"
      ]
     },
     "execution_count": 57,
     "metadata": {},
     "output_type": "execute_result"
    }
   ],
   "source": [
    "from vega_datasets import data\n",
    "source = data.population.url\n",
    "source"
   ]
  },
  {
   "cell_type": "code",
   "execution_count": 102,
   "metadata": {},
   "outputs": [
    {
     "data": {
      "text/html": [
       "<div>\n",
       "<style scoped>\n",
       "    .dataframe tbody tr th:only-of-type {\n",
       "        vertical-align: middle;\n",
       "    }\n",
       "\n",
       "    .dataframe tbody tr th {\n",
       "        vertical-align: top;\n",
       "    }\n",
       "\n",
       "    .dataframe thead th {\n",
       "        text-align: right;\n",
       "    }\n",
       "</style>\n",
       "<table border=\"1\" class=\"dataframe\">\n",
       "  <thead>\n",
       "    <tr style=\"text-align: right;\">\n",
       "      <th></th>\n",
       "      <th>language</th>\n",
       "      <th>theme</th>\n",
       "      <th>occurrence</th>\n",
       "    </tr>\n",
       "  </thead>\n",
       "  <tbody>\n",
       "    <tr>\n",
       "      <th>0</th>\n",
       "      <td>JavaScript</td>\n",
       "      <td>#F7DF1E</td>\n",
       "      <td>13</td>\n",
       "    </tr>\n",
       "    <tr>\n",
       "      <th>1</th>\n",
       "      <td>C#</td>\n",
       "      <td>#239120</td>\n",
       "      <td>3</td>\n",
       "    </tr>\n",
       "    <tr>\n",
       "      <th>2</th>\n",
       "      <td>PHP</td>\n",
       "      <td>#777BB4</td>\n",
       "      <td>3</td>\n",
       "    </tr>\n",
       "    <tr>\n",
       "      <th>3</th>\n",
       "      <td>Python</td>\n",
       "      <td>#3776AB</td>\n",
       "      <td>3</td>\n",
       "    </tr>\n",
       "    <tr>\n",
       "      <th>4</th>\n",
       "      <td>Elixir</td>\n",
       "      <td>#4B275F</td>\n",
       "      <td>1</td>\n",
       "    </tr>\n",
       "    <tr>\n",
       "      <th>5</th>\n",
       "      <td>Ruby</td>\n",
       "      <td>#CC342D</td>\n",
       "      <td>1</td>\n",
       "    </tr>\n",
       "    <tr>\n",
       "      <th>6</th>\n",
       "      <td>Scala</td>\n",
       "      <td>#DC322F</td>\n",
       "      <td>1</td>\n",
       "    </tr>\n",
       "  </tbody>\n",
       "</table>\n",
       "</div>"
      ],
      "text/plain": [
       "     language    theme  occurrence\n",
       "0  JavaScript  #F7DF1E          13\n",
       "1          C#  #239120           3\n",
       "2         PHP  #777BB4           3\n",
       "3      Python  #3776AB           3\n",
       "4      Elixir  #4B275F           1\n",
       "5        Ruby  #CC342D           1\n",
       "6       Scala  #DC322F           1"
      ]
     },
     "execution_count": 102,
     "metadata": {},
     "output_type": "execute_result"
    }
   ],
   "source": []
  },
  {
   "cell_type": "code",
   "execution_count": null,
   "metadata": {},
   "outputs": [],
   "source": []
  }
 ],
 "metadata": {
  "kernelspec": {
   "display_name": "Python 3.10.2 64-bit",
   "language": "python",
   "name": "python3"
  },
  "language_info": {
   "codemirror_mode": {
    "name": "ipython",
    "version": 3
   },
   "file_extension": ".py",
   "mimetype": "text/x-python",
   "name": "python",
   "nbconvert_exporter": "python",
   "pygments_lexer": "ipython3",
   "version": "3.10.2"
  },
  "orig_nbformat": 4,
  "vscode": {
   "interpreter": {
    "hash": "901b79e026e03396fd1ffa7133844e9ea80e258ce34c66e1aabb5896bcb18463"
   }
  }
 },
 "nbformat": 4,
 "nbformat_minor": 2
}
